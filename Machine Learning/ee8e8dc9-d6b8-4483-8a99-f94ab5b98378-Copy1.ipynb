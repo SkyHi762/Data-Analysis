{
 "cells": [
  {
   "cell_type": "markdown",
   "metadata": {},
   "source": [
    "# Oily Giant Mining Company\n",
    "\n",
    "Using machine learning and the bootstrapping technique, the task is the find the best place for a new oil well. This is dependent on the volume of reserves and the profitability of different regions."
   ]
  },
  {
   "cell_type": "markdown",
   "metadata": {
    "toc": true
   },
   "source": [
    "<h1>Table of Contents<span class=\"tocSkip\"></span></h1>\n",
    "<div class=\"toc\"><ul class=\"toc-item\"><li><span><a href=\"#General-Information\" data-toc-modified-id=\"General-Information-1\"><span class=\"toc-item-num\">1&nbsp;&nbsp;</span>General Information</a></span><ul class=\"toc-item\"><li><span><a href=\"#Conclusion\" data-toc-modified-id=\"Conclusion-1.1\"><span class=\"toc-item-num\">1.1&nbsp;&nbsp;</span>Conclusion</a></span></li></ul></li><li><span><a href=\"#Model-Testing\" data-toc-modified-id=\"Model-Testing-2\"><span class=\"toc-item-num\">2&nbsp;&nbsp;</span>Model Testing</a></span><ul class=\"toc-item\"><li><span><a href=\"#Conclusion\" data-toc-modified-id=\"Conclusion-2.1\"><span class=\"toc-item-num\">2.1&nbsp;&nbsp;</span>Conclusion</a></span></li></ul></li><li><span><a href=\"#Profitability-Analysis\" data-toc-modified-id=\"Profitability-Analysis-3\"><span class=\"toc-item-num\">3&nbsp;&nbsp;</span>Profitability Analysis</a></span><ul class=\"toc-item\"><li><span><a href=\"#Conclusion\" data-toc-modified-id=\"Conclusion-3.1\"><span class=\"toc-item-num\">3.1&nbsp;&nbsp;</span>Conclusion</a></span></li><li><span><a href=\"#Conclusion\" data-toc-modified-id=\"Conclusion-3.2\"><span class=\"toc-item-num\">3.2&nbsp;&nbsp;</span>Conclusion</a></span></li><li><span><a href=\"#Conclusion\" data-toc-modified-id=\"Conclusion-3.3\"><span class=\"toc-item-num\">3.3&nbsp;&nbsp;</span>Conclusion</a></span></li></ul></li><li><span><a href=\"#Final-Conclusion\" data-toc-modified-id=\"Final-Conclusion-4\"><span class=\"toc-item-num\">4&nbsp;&nbsp;</span>Final Conclusion</a></span></li></ul></div>"
   ]
  },
  {
   "cell_type": "markdown",
   "metadata": {},
   "source": [
    "## General Information"
   ]
  },
  {
   "cell_type": "code",
   "execution_count": 1,
   "metadata": {},
   "outputs": [
    {
     "name": "stdout",
     "output_type": "stream",
     "text": [
      "\u001b[1m Region 1\n"
     ]
    },
    {
     "data": {
      "text/html": [
       "<div>\n",
       "<style scoped>\n",
       "    .dataframe tbody tr th:only-of-type {\n",
       "        vertical-align: middle;\n",
       "    }\n",
       "\n",
       "    .dataframe tbody tr th {\n",
       "        vertical-align: top;\n",
       "    }\n",
       "\n",
       "    .dataframe thead th {\n",
       "        text-align: right;\n",
       "    }\n",
       "</style>\n",
       "<table border=\"1\" class=\"dataframe\">\n",
       "  <thead>\n",
       "    <tr style=\"text-align: right;\">\n",
       "      <th></th>\n",
       "      <th>f0</th>\n",
       "      <th>f1</th>\n",
       "      <th>f2</th>\n",
       "      <th>product</th>\n",
       "    </tr>\n",
       "  </thead>\n",
       "  <tbody>\n",
       "    <tr>\n",
       "      <td>count</td>\n",
       "      <td>100000.000000</td>\n",
       "      <td>100000.000000</td>\n",
       "      <td>100000.000000</td>\n",
       "      <td>100000.000000</td>\n",
       "    </tr>\n",
       "    <tr>\n",
       "      <td>mean</td>\n",
       "      <td>0.500419</td>\n",
       "      <td>0.250143</td>\n",
       "      <td>2.502647</td>\n",
       "      <td>92.500000</td>\n",
       "    </tr>\n",
       "    <tr>\n",
       "      <td>std</td>\n",
       "      <td>0.871832</td>\n",
       "      <td>0.504433</td>\n",
       "      <td>3.248248</td>\n",
       "      <td>44.288691</td>\n",
       "    </tr>\n",
       "    <tr>\n",
       "      <td>min</td>\n",
       "      <td>-1.408605</td>\n",
       "      <td>-0.848218</td>\n",
       "      <td>-12.088328</td>\n",
       "      <td>0.000000</td>\n",
       "    </tr>\n",
       "    <tr>\n",
       "      <td>25%</td>\n",
       "      <td>-0.072580</td>\n",
       "      <td>-0.200881</td>\n",
       "      <td>0.287748</td>\n",
       "      <td>56.497507</td>\n",
       "    </tr>\n",
       "  </tbody>\n",
       "</table>\n",
       "</div>"
      ],
      "text/plain": [
       "                  f0             f1             f2        product\n",
       "count  100000.000000  100000.000000  100000.000000  100000.000000\n",
       "mean        0.500419       0.250143       2.502647      92.500000\n",
       "std         0.871832       0.504433       3.248248      44.288691\n",
       "min        -1.408605      -0.848218     -12.088328       0.000000\n",
       "25%        -0.072580      -0.200881       0.287748      56.497507"
      ]
     },
     "metadata": {},
     "output_type": "display_data"
    },
    {
     "name": "stdout",
     "output_type": "stream",
     "text": [
      "f0         0\n",
      "f1         0\n",
      "f2         0\n",
      "product    0\n",
      "dtype: int64\n"
     ]
    },
    {
     "data": {
      "image/png": "[encoded data removed]",
      "text/plain": [
       "<Figure size 432x288 with 1 Axes>"
      ]
     },
     "metadata": {
      "needs_background": "light"
     },
     "output_type": "display_data"
    },
    {
     "name": "stdout",
     "output_type": "stream",
     "text": [
      "\u001b[1m Region 2\n"
     ]
    },
    {
     "data": {
      "text/html": [
       "<div>\n",
       "<style scoped>\n",
       "    .dataframe tbody tr th:only-of-type {\n",
       "        vertical-align: middle;\n",
       "    }\n",
       "\n",
       "    .dataframe tbody tr th {\n",
       "        vertical-align: top;\n",
       "    }\n",
       "\n",
       "    .dataframe thead th {\n",
       "        text-align: right;\n",
       "    }\n",
       "</style>\n",
       "<table border=\"1\" class=\"dataframe\">\n",
       "  <thead>\n",
       "    <tr style=\"text-align: right;\">\n",
       "      <th></th>\n",
       "      <th>f0</th>\n",
       "      <th>f1</th>\n",
       "      <th>f2</th>\n",
       "      <th>product</th>\n",
       "    </tr>\n",
       "  </thead>\n",
       "  <tbody>\n",
       "    <tr>\n",
       "      <td>count</td>\n",
       "      <td>100000.000000</td>\n",
       "      <td>100000.000000</td>\n",
       "      <td>100000.000000</td>\n",
       "      <td>100000.000000</td>\n",
       "    </tr>\n",
       "    <tr>\n",
       "      <td>mean</td>\n",
       "      <td>1.141296</td>\n",
       "      <td>-4.796579</td>\n",
       "      <td>2.494541</td>\n",
       "      <td>68.825000</td>\n",
       "    </tr>\n",
       "    <tr>\n",
       "      <td>std</td>\n",
       "      <td>8.965932</td>\n",
       "      <td>5.119872</td>\n",
       "      <td>1.703572</td>\n",
       "      <td>45.944423</td>\n",
       "    </tr>\n",
       "    <tr>\n",
       "      <td>min</td>\n",
       "      <td>-31.609576</td>\n",
       "      <td>-26.358598</td>\n",
       "      <td>-0.018144</td>\n",
       "      <td>0.000000</td>\n",
       "    </tr>\n",
       "    <tr>\n",
       "      <td>25%</td>\n",
       "      <td>-6.298551</td>\n",
       "      <td>-8.267985</td>\n",
       "      <td>1.000021</td>\n",
       "      <td>26.953261</td>\n",
       "    </tr>\n",
       "  </tbody>\n",
       "</table>\n",
       "</div>"
      ],
      "text/plain": [
       "                  f0             f1             f2        product\n",
       "count  100000.000000  100000.000000  100000.000000  100000.000000\n",
       "mean        1.141296      -4.796579       2.494541      68.825000\n",
       "std         8.965932       5.119872       1.703572      45.944423\n",
       "min       -31.609576     -26.358598      -0.018144       0.000000\n",
       "25%        -6.298551      -8.267985       1.000021      26.953261"
      ]
     },
     "metadata": {},
     "output_type": "display_data"
    },
    {
     "name": "stdout",
     "output_type": "stream",
     "text": [
      "f0         0\n",
      "f1         0\n",
      "f2         0\n",
      "product    0\n",
      "dtype: int64\n"
     ]
    },
    {
     "data": {
      "image/png": "[encoded data removed]",
      "text/plain": [
       "<Figure size 432x288 with 1 Axes>"
      ]
     },
     "metadata": {
      "needs_background": "light"
     },
     "output_type": "display_data"
    },
    {
     "name": "stdout",
     "output_type": "stream",
     "text": [
      "\u001b[1m Region 3\n"
     ]
    },
    {
     "data": {
      "text/html": [
       "<div>\n",
       "<style scoped>\n",
       "    .dataframe tbody tr th:only-of-type {\n",
       "        vertical-align: middle;\n",
       "    }\n",
       "\n",
       "    .dataframe tbody tr th {\n",
       "        vertical-align: top;\n",
       "    }\n",
       "\n",
       "    .dataframe thead th {\n",
       "        text-align: right;\n",
       "    }\n",
       "</style>\n",
       "<table border=\"1\" class=\"dataframe\">\n",
       "  <thead>\n",
       "    <tr style=\"text-align: right;\">\n",
       "      <th></th>\n",
       "      <th>f0</th>\n",
       "      <th>f1</th>\n",
       "      <th>f2</th>\n",
       "      <th>product</th>\n",
       "    </tr>\n",
       "  </thead>\n",
       "  <tbody>\n",
       "    <tr>\n",
       "      <td>count</td>\n",
       "      <td>100000.000000</td>\n",
       "      <td>100000.000000</td>\n",
       "      <td>100000.000000</td>\n",
       "      <td>100000.000000</td>\n",
       "    </tr>\n",
       "    <tr>\n",
       "      <td>mean</td>\n",
       "      <td>0.002023</td>\n",
       "      <td>-0.002081</td>\n",
       "      <td>2.495128</td>\n",
       "      <td>95.000000</td>\n",
       "    </tr>\n",
       "    <tr>\n",
       "      <td>std</td>\n",
       "      <td>1.732045</td>\n",
       "      <td>1.730417</td>\n",
       "      <td>3.473445</td>\n",
       "      <td>44.749921</td>\n",
       "    </tr>\n",
       "    <tr>\n",
       "      <td>min</td>\n",
       "      <td>-8.760004</td>\n",
       "      <td>-7.084020</td>\n",
       "      <td>-11.970335</td>\n",
       "      <td>0.000000</td>\n",
       "    </tr>\n",
       "    <tr>\n",
       "      <td>25%</td>\n",
       "      <td>-1.162288</td>\n",
       "      <td>-1.174820</td>\n",
       "      <td>0.130359</td>\n",
       "      <td>59.450441</td>\n",
       "    </tr>\n",
       "  </tbody>\n",
       "</table>\n",
       "</div>"
      ],
      "text/plain": [
       "                  f0             f1             f2        product\n",
       "count  100000.000000  100000.000000  100000.000000  100000.000000\n",
       "mean        0.002023      -0.002081       2.495128      95.000000\n",
       "std         1.732045       1.730417       3.473445      44.749921\n",
       "min        -8.760004      -7.084020     -11.970335       0.000000\n",
       "25%        -1.162288      -1.174820       0.130359      59.450441"
      ]
     },
     "metadata": {},
     "output_type": "display_data"
    },
    {
     "name": "stdout",
     "output_type": "stream",
     "text": [
      "f0         0\n",
      "f1         0\n",
      "f2         0\n",
      "product    0\n",
      "dtype: int64\n"
     ]
    },
    {
     "data": {
      "image/png": "[encoded data removed]",
      "text/plain": [
       "<Figure size 432x288 with 1 Axes>"
      ]
     },
     "metadata": {
      "needs_background": "light"
     },
     "output_type": "display_data"
    }
   ],
   "source": [
    "import pandas as pd\n",
    "import matplotlib.pyplot as plt\n",
    "from sklearn.linear_model import LinearRegression\n",
    "from sklearn.model_selection import train_test_split\n",
    "from sklearn.preprocessing import StandardScaler\n",
    "from sklearn.metrics import mean_squared_error\n",
    "import numpy as np\n",
    "\n",
    "geo_0= pd.read_csv('/datasets/geo_data_0.csv')\n",
    "geo_1=pd.read_csv('/datasets/geo_data_1.csv')\n",
    "geo_2=pd.read_csv('/datasets/geo_data_2.csv')\n",
    "\n",
    "geo_0 = geo_0.drop(['id'],axis=1)\n",
    "geo_1 = geo_1.drop(['id'],axis=1)\n",
    "geo_2 = geo_2.drop(['id'],axis=1)\n",
    "\n",
    "def prepare(i,region):\n",
    "       print(\"\\033[1m\",'Region', region) \n",
    "       display(i.describe().head())\n",
    "       print(i.isnull().sum())\n",
    "       i['product'].hist()\n",
    "       plt.title('Product Distribution')\n",
    "       plt.show()\n",
    "prepare(geo_0,1)\n",
    "prepare(geo_1,2)\n",
    "prepare(geo_2,3)"
   ]
  },
  {
   "cell_type": "markdown",
   "metadata": {},
   "source": [
    "### Conclusion\n",
    "\n",
    "Using pandas function pd.read_csv() the datasets were loaded. The function isnull() was used to check if the data had any missing values , which it didn't. Describe() was also called to check for any extreme values in each dataset. Looking at the dataset, the id column was removed as it was not necessary for model training. The product distributions for each region was plotted with the histogram function. It shows that region 1 and 3 the product distribution is centered around 75 to 100 units of product. However, region 2 has product that is dispered with the more extreme values close to zero and close to 140 units having the highest range of wells that fall into those values"
   ]
  },
  {
   "cell_type": "markdown",
   "metadata": {},
   "source": [
    "## Model Testing"
   ]
  },
  {
   "cell_type": "code",
   "execution_count": 2,
   "metadata": {},
   "outputs": [
    {
     "name": "stdout",
     "output_type": "stream",
     "text": [
      "Model Scores for each region : \n",
      "Region 1: 0.28 \n",
      "Region 2: 1.00 \n",
      "Region 3: 0.21\n",
      "\n",
      "Average predicted volume for each region: \n",
      "Region 1: 92.59 \n",
      "Region 2: 68.73 \n",
      "Region 3: 94.97\n",
      "\n",
      "RMSE for each region: \n",
      "Region 1: 37.58 \n",
      "Region 2: 0.89 \n",
      "Region 3: 40.03\n"
     ]
    }
   ],
   "source": [
    "def model_testing(types):\n",
    "    u_train, u_valid = train_test_split(types,test_size=0.25,random_state=12345)\n",
    "    features_t = u_train.drop(['product'],axis=1)\n",
    "    target_t = u_train['product']\n",
    "\n",
    "    features_v = u_valid.drop(['product'],axis=1)\n",
    "    target_v= u_valid['product']\n",
    "\n",
    "    num=types.columns[types.dtypes!='object'].drop(['product'])\n",
    "\n",
    "    scaler = StandardScaler()\n",
    "    scaler.fit(features_t[num])\n",
    "    features_train_s = scaler.transform(features_t[num])\n",
    "    features_valid_s = scaler.transform(features_v[num]) \n",
    "\n",
    "\n",
    "    model= LinearRegression()\n",
    "    model.fit(features_train_s,target_t)\n",
    "    predict=model.predict(features_valid_s)\n",
    "    score=model.score(features_valid_s,target_v)\n",
    "    score_f = \"{:.2f}\".format(score)\n",
    "    average_volume_predicted = predict.mean()\n",
    "    avg_p =  \"{:.2f}\".format(average_volume_predicted)\n",
    "    mse = mean_squared_error(target_v, predict)\n",
    "    rmse =  np.sqrt(mse)\n",
    "    rmse_f = \"{:.2f}\".format(rmse)\n",
    "    return score_f, avg_p ,rmse_f, predict,target_v,mse\n",
    "    \n",
    "geo_0_test=model_testing(geo_0)\n",
    "geo_1_test= model_testing(geo_1)\n",
    "geo_2_test=model_testing(geo_2)\n",
    "\n",
    "print('Model Scores for each region :','\\nRegion 1:',geo_0_test[0],'\\nRegion 2:',geo_1_test[0],\n",
    "      '\\nRegion 3:',geo_2_test[0])\n",
    "print('\\nAverage predicted volume for each region:','\\nRegion 1:',geo_0_test[1],'\\nRegion 2:',geo_1_test[1],\n",
    "      '\\nRegion 3:',geo_2_test[1])\n",
    "print('\\nRMSE for each region:','\\nRegion 1:',geo_0_test[2],'\\nRegion 2:',geo_1_test[2],\n",
    "      '\\nRegion 3:',geo_2_test[2])\n",
    "\n",
    "geo_0_features_target = geo_0_test[3],geo_0_test[4]\n",
    "geo_1_features_target = geo_1_test[3],geo_1_test[4]\n",
    "geo_2_features_target = geo_2_test[3],geo_2_test[4]\n"
   ]
  },
  {
   "cell_type": "markdown",
   "metadata": {},
   "source": [
    "### Conclusion\n",
    "\n",
    "As there were three different datasets, the model testing was quicker to perform when turning it into a function. The target we are trying to predict is product, thus the columns were seperated into features and target. The dataset was also split into the training and validation set using train_test_split, with a 75:25 ratio. The data was standaradised using a standard scaler to normalise the data in the features column by arranging the data around a standard normal distribution.\n",
    "\n",
    "Linear regression was used on the data and thus the model score, the average predicted product and the RMSE (from square-rooting mean_squared_error). The model scores for each region makes a point that the model may not be accurate for region 1 and 3 as the model score is very low but it is very high for region 2. The average predicted volume for region 1 and 3 is 92 and 94 respectively, while it is 68 for region 2. Considering the low model score for region 1 and 3, these figures may not be accurate compared to region 2's figure.\n",
    "\n",
    "The RMSE for region 1 and 3 is 37 and 40 respectively. This highlights the residuals  for those regions is spread out round the line of best fit. This very much differs to region 2, whose RMSE is 0.8. Here region 2's residuals are very concerntrated around the line of best fit, the residuals do not deviate far. As a lower RMSE indicates a better fit, this is consistent with region 2 having a better model score than region 1 or 3."
   ]
  },
  {
   "cell_type": "markdown",
   "metadata": {},
   "source": [
    "## Profitability Analysis"
   ]
  },
  {
   "cell_type": "code",
   "execution_count": 3,
   "metadata": {},
   "outputs": [
    {
     "name": "stdout",
     "output_type": "stream",
     "text": [
      "Volume of reserves sufficient for developing a new well: 111.11111111111111\n"
     ]
    }
   ],
   "source": [
    "no_loss_well = (100000000/4500)/200\n",
    "print('Volume of reserves sufficient for developing a new well:',no_loss_well)\n",
    "\n",
    "budget_for_development = 100000000\n",
    "\n",
    "cost_per_well = 100000000/200\n",
    "\n",
    "revenue  = 4500"
   ]
  },
  {
   "cell_type": "markdown",
   "metadata": {},
   "source": [
    "### Conclusion\n",
    "\n",
    "As the task is to find a region to develop a new well, the minimum volume of reserves sufficient to make a profit on a new well is important. The cost of oil development is 100 million USD, the revenue one unit of reserves is 4500 USD and the output would be from 200 wells. Thus, the volume of reserves sufficient for developing a new well without losses is 111 units of reserves. This amount is much higher than the average predicted volume of reserves, the closest region being region 3 (with average volume of 94) but this is still 17 units below required. New well development from any region seems loss-making."
   ]
  },
  {
   "cell_type": "code",
   "execution_count": 4,
   "metadata": {},
   "outputs": [
    {
     "name": "stdout",
     "output_type": "stream",
     "text": [
      "Profit for each region:\n",
      " \n",
      "Region 1: \n",
      " 33208260.431398526 \n",
      "Region 2: \n",
      " 24150866.966815114 \n",
      "Region 3 :\n",
      " 27103499.635998324\n"
     ]
    }
   ],
   "source": [
    "def profit(predictions,target,number,cost):\n",
    "    pred = []\n",
    "    for i in predictions:\n",
    "        pred.append(i)\n",
    "    predic = pd.Series(pred).reset_index(drop=True).sort_values(ascending=False).head(number)\n",
    "    pre_tar = target.reset_index(drop=True).iloc[predic.index]\n",
    "    revenue = pre_tar.sum() * 4500\n",
    "    cost = number*cost\n",
    "    profit = revenue - cost\n",
    "    return profit\n",
    "\n",
    "profit1 = profit(geo_0_features_target[0],geo_0_features_target[1],200,cost_per_well)\n",
    "profit2= profit(geo_1_features_target[0],geo_1_features_target[1],200,cost_per_well)\n",
    "profit3 = profit(geo_2_features_target[0],geo_2_features_target[1],200,cost_per_well)\n",
    "\n",
    "print('Profit for each region:\\n','\\nRegion 1: \\n',profit1,'\\nRegion 2: \\n',profit2,'\\nRegion 3 :\\n',profit3)"
   ]
  },
  {
   "cell_type": "markdown",
   "metadata": {},
   "source": [
    "### Conclusion\n",
    "To work out the profit for each region, a function was created. This used the predictions made in the model testing to index those values to the corresponding true target value. The revenue variable was the sum of these targets mutliplied by the revenue from one unit of product-4500 USD. This was minus the cost from developing a new well for 200 wells, which totalled the profits of each region. Region 1 had the highest profit of 33 million compared to region 2 (24 million) and region 3 (27 million). Thus, region 1 should be be top priority for oil well development since it returns the highest profit and profitability is the companies objective in this report."
   ]
  },
  {
   "cell_type": "code",
   "execution_count": 5,
   "metadata": {},
   "outputs": [
    {
     "name": "stdout",
     "output_type": "stream",
     "text": [
      "\n",
      "Region: 1\n",
      "Average profit: 3961649.8480237112\n",
      "95% Confidence Interval: -1112155.4589049604 -- 9097669.415534232\n",
      "Risk of loss: 6.9 %\n",
      "\n",
      "Region: 2\n",
      "Average profit: 4560451.057866608\n",
      "95% Confidence Interval: 338205.0939898603 -- 8522894.538660347\n",
      "Risk of loss: 1.5 %\n",
      "\n",
      "Region: 3\n",
      "Average profit: 4044038.6656835675\n",
      "95% Confidence Interval: -1633504.1339559837 -- 9503595.749237997\n",
      "Risk of loss: 7.6 %\n"
     ]
    }
   ],
   "source": [
    "def bootstrap(target_boot,predict_boot,region):\n",
    "    print('\\nRegion:',region)\n",
    "    state = np.random.RandomState(12345)\n",
    "    values = []\n",
    "    volume = []\n",
    "    for i in range(1000):\n",
    "        target_sub=target_boot.reset_index(drop=True).sample(replace=True,random_state=state,n=500)\n",
    "        probs_sub = pd.Series(predict_boot).iloc[target_sub.index]\n",
    "        values.append(profit(probs_sub,target_sub,200,cost_per_well))\n",
    "    values = pd.Series(values)\n",
    "    lower = values.quantile(0.025)\n",
    "    upper = values.quantile(0.975)\n",
    "    print('Average profit:',values.mean())\n",
    "    print('95% Confidence Interval:', lower,'--',upper)\n",
    "    neg = (values < 0).sum() /len(values)\n",
    "    loss = neg*100\n",
    "    print('Risk of loss:',loss,'%')\n",
    "\n",
    "bootstrap(geo_0_features_target[1],geo_0_features_target[0], 1)\n",
    "bootstrap(geo_1_features_target[1],geo_1_features_target[0], 2)\n",
    "bootstrap(geo_2_features_target[1],geo_2_features_target[0], 3)\n"
   ]
  },
  {
   "cell_type": "markdown",
   "metadata": {},
   "source": [
    "### Conclusion\n",
    "Here the bootstrap techinque was used to find the distribution of profit using 1000 samples. This was done by creating new target and prediction variables in the function and using them in the previous function of profit calculation.  In order to get a range of values that fufill the 95% confidence interval these values were seperated into a lower quartile of .025 of the values and upper quartile of the .975 of the values. The average profit was also found. Compared to the prior profitability calculation, in the bootstrap method, region 2 has the highest profit of 45 million, while region 1 had the lowest profit of 39 million. Additionally, region 2 was the only region that had a positive confidence interval. For all other regions, the confidence interval was in the negative, showing in some instances there could be great losses. At least region 2 at its lowest profit will turn a positive profit.\n",
    "\n",
    "In order to evaluate the risk of loss, a risk calculation was created by summing the values below zero and finding the proportion of those values against all of the values. Followinf tihs region 3 has the highest risk with 7.6% and region 1 has a 6.9% risk. Region 2 has the lowest risk of 1.5%. Considering the instruction to only keep regions with a risk of loss lower than 2.5%, region 2 is the only region left, hence the best region for new oil development."
   ]
  },
  {
   "cell_type": "markdown",
   "metadata": {},
   "source": [
    "## Final Conclusion\n",
    "\n",
    "To conclude the best region for oil development is region 2. It satifies the maximum constraint for risk, with the boostrap method it returns the highest profit and it has a low RSME. These factors highlight that the results are accurate to reality. However, the predicted volume for each region was lower than the volume needed to not make a loss. Therefore, a loss could still occur with region 2 if a new oil well is developed."
   ]
  }
 ],
 "metadata": {
  "kernelspec": {
   "display_name": "Python 3",
   "language": "python",
   "name": "python3"
  },
  "language_info": {
   "codemirror_mode": {
    "name": "ipython",
    "version": 3
   },
   "file_extension": ".py",
   "mimetype": "text/x-python",
   "name": "python",
   "nbconvert_exporter": "python",
   "pygments_lexer": "ipython3",
   "version": "3.7.8"
  },
  "toc": {
   "base_numbering": 1,
   "nav_menu": {},
   "number_sections": true,
   "sideBar": true,
   "skip_h1_title": true,
   "title_cell": "Table of Contents",
   "title_sidebar": "Contents",
   "toc_cell": true,
   "toc_position": {},
   "toc_section_display": true,
   "toc_window_display": false
  }
 },
 "nbformat": 4,
 "nbformat_minor": 2
}
